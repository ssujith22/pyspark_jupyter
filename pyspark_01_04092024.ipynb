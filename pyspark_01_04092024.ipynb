{
 "cells": [
  {
   "cell_type": "code",
   "execution_count": 1,
   "id": "93bee772-acb1-4f52-9b9c-a9bef7815351",
   "metadata": {},
   "outputs": [],
   "source": [
    "import findspark\n",
    "findspark.init()\n",
    "from pyspark.sql import SparkSession\n",
    "spark = SparkSession.builder.appName(\"DataAnalysis using Pyspark\")\\\n",
    ".config(\"spark.memory.offHeap.enabled\",\"true\").config(\"spark.memory.offHeap.size\",\"20g\").getOrCreate()\n",
    "\n"
   ]
  },
  {
   "cell_type": "code",
   "execution_count": 2,
   "id": "69bb5b30-14ab-4323-9852-a23f2bf3c9dd",
   "metadata": {},
   "outputs": [],
   "source": [
    "df= spark.read.csv('OnlineRetail.csv',header = True,escape = \"\\\"\")\n",
    "\n"
   ]
  },
  {
   "cell_type": "code",
   "execution_count": 3,
   "id": "cb9e12ce-90ba-4002-a371-d92cabb43598",
   "metadata": {
    "scrolled": true
   },
   "outputs": [
    {
     "name": "stdout",
     "output_type": "stream",
     "text": [
      "+---------+---------+-----------------------------------+--------+----------------+---------+----------+--------------+\n",
      "|InvoiceNo|StockCode|Description                        |Quantity|InvoiceDate     |UnitPrice|CustomerID|Country       |\n",
      "+---------+---------+-----------------------------------+--------+----------------+---------+----------+--------------+\n",
      "|536365   |85123A   |WHITE HANGING HEART T-LIGHT HOLDER |6       |01-12-2010 08:26|2.55     |17850     |United Kingdom|\n",
      "|536365   |71053    |WHITE METAL LANTERN                |6       |01-12-2010 08:26|3.39     |17850     |United Kingdom|\n",
      "|536365   |84406B   |CREAM CUPID HEARTS COAT HANGER     |8       |01-12-2010 08:26|2.75     |17850     |United Kingdom|\n",
      "|536365   |84029G   |KNITTED UNION FLAG HOT WATER BOTTLE|6       |01-12-2010 08:26|3.39     |17850     |United Kingdom|\n",
      "|536365   |84029E   |RED WOOLLY HOTTIE WHITE HEART.     |6       |01-12-2010 08:26|3.39     |17850     |United Kingdom|\n",
      "+---------+---------+-----------------------------------+--------+----------------+---------+----------+--------------+\n",
      "only showing top 5 rows\n",
      "\n"
     ]
    }
   ],
   "source": [
    "df.show(5,0)"
   ]
  },
  {
   "cell_type": "code",
   "execution_count": 4,
   "id": "8578bb73-1a1f-4551-8b1a-1ea8850adff8",
   "metadata": {},
   "outputs": [
    {
     "data": {
      "text/plain": [
       "541909"
      ]
     },
     "execution_count": 4,
     "metadata": {},
     "output_type": "execute_result"
    }
   ],
   "source": [
    "df.count()\n"
   ]
  },
  {
   "cell_type": "code",
   "execution_count": 5,
   "id": "96ce99ed-740d-418a-b236-f7f015c01e01",
   "metadata": {},
   "outputs": [
    {
     "data": {
      "text/plain": [
       "4373"
      ]
     },
     "execution_count": 5,
     "metadata": {},
     "output_type": "execute_result"
    }
   ],
   "source": [
    "#how many unique customers are present in the given dataset\n",
    "df.select('CustomerId').distinct().count()"
   ]
  },
  {
   "cell_type": "code",
   "execution_count": 6,
   "id": "28aa7093-1c6d-4f39-8cc3-c04190d8c1b7",
   "metadata": {},
   "outputs": [
    {
     "data": {
      "text/plain": [
       "Row(InvoiceNo='536365', StockCode='85123A', Description='WHITE HANGING HEART T-LIGHT HOLDER', Quantity='6', InvoiceDate='01-12-2010 08:26', UnitPrice='2.55', CustomerID='17850', Country='United Kingdom')"
      ]
     },
     "execution_count": 6,
     "metadata": {},
     "output_type": "execute_result"
    }
   ],
   "source": [
    "df.head()"
   ]
  },
  {
   "cell_type": "code",
   "execution_count": 7,
   "id": "10b1c56a-14d2-4910-b92f-795160f39578",
   "metadata": {
    "scrolled": true
   },
   "outputs": [
    {
     "name": "stdout",
     "output_type": "stream",
     "text": [
      "+------------------+-------------+\n",
      "|           Country|country_count|\n",
      "+------------------+-------------+\n",
      "|            Sweden|            8|\n",
      "|         Singapore|            1|\n",
      "|           Germany|           95|\n",
      "|               RSA|            1|\n",
      "|            France|           87|\n",
      "|            Greece|            4|\n",
      "|European Community|            1|\n",
      "|           Belgium|           25|\n",
      "|           Finland|           12|\n",
      "|             Malta|            2|\n",
      "|       Unspecified|            4|\n",
      "|             Italy|           15|\n",
      "|              EIRE|            3|\n",
      "|         Lithuania|            1|\n",
      "|            Norway|           10|\n",
      "|             Spain|           31|\n",
      "|           Denmark|            9|\n",
      "|         Hong Kong|            0|\n",
      "|            Israel|            4|\n",
      "|           Iceland|            1|\n",
      "+------------------+-------------+\n",
      "only showing top 20 rows\n",
      "\n"
     ]
    }
   ],
   "source": [
    "from pyspark.sql.functions import *\n",
    "from pyspark.sql.types import *\n",
    "\n",
    "df.groupBy('Country').agg(countDistinct('CustomerID').alias('country_count')).show()"
   ]
  },
  {
   "cell_type": "code",
   "execution_count": 8,
   "id": "252e8df0-3d8d-47e7-85fe-85cd0383a3ea",
   "metadata": {},
   "outputs": [
    {
     "name": "stdout",
     "output_type": "stream",
     "text": [
      "+---------------+-------------+\n",
      "|        Country|country_count|\n",
      "+---------------+-------------+\n",
      "| United Kingdom|         3950|\n",
      "|        Germany|           95|\n",
      "|         France|           87|\n",
      "|          Spain|           31|\n",
      "|        Belgium|           25|\n",
      "|    Switzerland|           21|\n",
      "|       Portugal|           19|\n",
      "|          Italy|           15|\n",
      "|        Finland|           12|\n",
      "|        Austria|           11|\n",
      "|         Norway|           10|\n",
      "|        Denmark|            9|\n",
      "|Channel Islands|            9|\n",
      "|      Australia|            9|\n",
      "|    Netherlands|            9|\n",
      "|         Sweden|            8|\n",
      "|         Cyprus|            8|\n",
      "|          Japan|            8|\n",
      "|         Poland|            6|\n",
      "|         Greece|            4|\n",
      "+---------------+-------------+\n",
      "only showing top 20 rows\n",
      "\n"
     ]
    }
   ],
   "source": [
    "df.groupBy('Country').agg(countDistinct('CustomerID').alias('country_count')).orderBy(desc('country_count')).show()"
   ]
  },
  {
   "cell_type": "code",
   "execution_count": 9,
   "id": "9e0db825-e31c-43b4-8be8-60af01011e48",
   "metadata": {},
   "outputs": [
    {
     "name": "stdout",
     "output_type": "stream",
     "text": [
      "+----------------+\n",
      "|max(InvoiceDate)|\n",
      "+----------------+\n",
      "|31-10-2011 17:19|\n",
      "+----------------+\n",
      "\n"
     ]
    }
   ],
   "source": [
    "#when was the most recent purchase made by a customer on the e-commmerce platform\n",
    "df.select(max(\"InvoiceDate\")).show()"
   ]
  },
  {
   "cell_type": "code",
   "execution_count": 10,
   "id": "cd3c7bdb-e759-499c-a996-428510e04e49",
   "metadata": {},
   "outputs": [
    {
     "name": "stdout",
     "output_type": "stream",
     "text": [
      "+---------+---------+--------------------+--------+----------------+---------+----------+--------------+\n",
      "|InvoiceNo|StockCode|         Description|Quantity|     InvoiceDate|UnitPrice|CustomerID|       Country|\n",
      "+---------+---------+--------------------+--------+----------------+---------+----------+--------------+\n",
      "|   536365|   85123A|WHITE HANGING HEA...|       6|01-12-2010 08:26|     2.55|     17850|United Kingdom|\n",
      "|   536365|    71053| WHITE METAL LANTERN|       6|01-12-2010 08:26|     3.39|     17850|United Kingdom|\n",
      "|   536365|   84406B|CREAM CUPID HEART...|       8|01-12-2010 08:26|     2.75|     17850|United Kingdom|\n",
      "|   536365|   84029G|KNITTED UNION FLA...|       6|01-12-2010 08:26|     3.39|     17850|United Kingdom|\n",
      "|   536365|   84029E|RED WOOLLY HOTTIE...|       6|01-12-2010 08:26|     3.39|     17850|United Kingdom|\n",
      "|   536365|    22752|SET 7 BABUSHKA NE...|       2|01-12-2010 08:26|     7.65|     17850|United Kingdom|\n",
      "|   536365|    21730|GLASS STAR FROSTE...|       6|01-12-2010 08:26|     4.25|     17850|United Kingdom|\n",
      "|   536366|    22633|HAND WARMER UNION...|       6|01-12-2010 08:28|     1.85|     17850|United Kingdom|\n",
      "|   536366|    22632|HAND WARMER RED P...|       6|01-12-2010 08:28|     1.85|     17850|United Kingdom|\n",
      "|   536367|    84879|ASSORTED COLOUR B...|      32|01-12-2010 08:34|     1.69|     13047|United Kingdom|\n",
      "|   536367|    22745|POPPY'S PLAYHOUSE...|       6|01-12-2010 08:34|      2.1|     13047|United Kingdom|\n",
      "|   536367|    22748|POPPY'S PLAYHOUSE...|       6|01-12-2010 08:34|      2.1|     13047|United Kingdom|\n",
      "|   536367|    22749|FELTCRAFT PRINCES...|       8|01-12-2010 08:34|     3.75|     13047|United Kingdom|\n",
      "|   536367|    22310|IVORY KNITTED MUG...|       6|01-12-2010 08:34|     1.65|     13047|United Kingdom|\n",
      "|   536367|    84969|BOX OF 6 ASSORTED...|       6|01-12-2010 08:34|     4.25|     13047|United Kingdom|\n",
      "|   536367|    22623|BOX OF VINTAGE JI...|       3|01-12-2010 08:34|     4.95|     13047|United Kingdom|\n",
      "|   536367|    22622|BOX OF VINTAGE AL...|       2|01-12-2010 08:34|     9.95|     13047|United Kingdom|\n",
      "|   536367|    21754|HOME BUILDING BLO...|       3|01-12-2010 08:34|     5.95|     13047|United Kingdom|\n",
      "|   536367|    21755|LOVE BUILDING BLO...|       3|01-12-2010 08:34|     5.95|     13047|United Kingdom|\n",
      "|   536367|    21777|RECIPE BOX WITH M...|       4|01-12-2010 08:34|     7.95|     13047|United Kingdom|\n",
      "+---------+---------+--------------------+--------+----------------+---------+----------+--------------+\n",
      "only showing top 20 rows\n",
      "\n"
     ]
    }
   ],
   "source": [
    "df.show()\n"
   ]
  },
  {
   "cell_type": "code",
   "execution_count": 1,
   "id": "58f70421-1c91-4d53-85bb-c6d09587fa1b",
   "metadata": {},
   "outputs": [
    {
     "ename": "NameError",
     "evalue": "name 'df' is not defined",
     "output_type": "error",
     "traceback": [
      "\u001b[1;31m---------------------------------------------------------------------------\u001b[0m",
      "\u001b[1;31mNameError\u001b[0m                                 Traceback (most recent call last)",
      "Cell \u001b[1;32mIn[1], line 1\u001b[0m\n\u001b[1;32m----> 1\u001b[0m df \u001b[38;5;241m=\u001b[39m \u001b[43mdf\u001b[49m\u001b[38;5;241m.\u001b[39mwithColumn(\u001b[38;5;124m\"\u001b[39m\u001b[38;5;124mfrom_date\u001b[39m\u001b[38;5;124m\"\u001b[39m,lit(\u001b[38;5;124m\"\u001b[39m\u001b[38;5;124m1/10/2011 10:04\u001b[39m\u001b[38;5;124m\"\u001b[39m))\n",
      "\u001b[1;31mNameError\u001b[0m: name 'df' is not defined"
     ]
    }
   ],
   "source": [
    "df = df.withColumn(\"from_date\",lit(\"1/10/2011 10:04\"))"
   ]
  },
  {
   "cell_type": "code",
   "execution_count": 12,
   "id": "89d3ce6c-2eb1-4702-988d-efc21fdb9b01",
   "metadata": {},
   "outputs": [
    {
     "name": "stdout",
     "output_type": "stream",
     "text": [
      "root\n",
      " |-- InvoiceNo: string (nullable = true)\n",
      " |-- StockCode: string (nullable = true)\n",
      " |-- Description: string (nullable = true)\n",
      " |-- Quantity: string (nullable = true)\n",
      " |-- InvoiceDate: string (nullable = true)\n",
      " |-- UnitPrice: string (nullable = true)\n",
      " |-- CustomerID: string (nullable = true)\n",
      " |-- Country: string (nullable = true)\n",
      " |-- from_date: string (nullable = false)\n",
      "\n"
     ]
    }
   ],
   "source": [
    "df.printSchema()"
   ]
  },
  {
   "cell_type": "code",
   "execution_count": 13,
   "id": "6fb86df4-529b-4868-b868-11ac0901527e",
   "metadata": {},
   "outputs": [],
   "source": [
    "df = df.drop(\"date\")"
   ]
  },
  {
   "cell_type": "code",
   "execution_count": 14,
   "id": "6eeb0e8a-3f08-43ee-b803-a0d76b6c32f6",
   "metadata": {},
   "outputs": [],
   "source": [
    "df = df.join(df.groupBy('CustomerID').agg(max('Quantity').alias('Quantity')),on = 'Quantity',how='leftsemi')"
   ]
  },
  {
   "cell_type": "code",
   "execution_count": 15,
   "id": "a6551008-60cb-45b3-9b29-1bfc58121628",
   "metadata": {},
   "outputs": [
    {
     "name": "stdout",
     "output_type": "stream",
     "text": [
      "+----------+---------+\n",
      "|CustomerID|frequency|\n",
      "+----------+---------+\n",
      "|     16250|       24|\n",
      "|     15574|      168|\n",
      "|     15555|      918|\n",
      "|     15271|      274|\n",
      "|     17714|       10|\n",
      "|     17686|      286|\n",
      "|     13865|       30|\n",
      "|     14157|       48|\n",
      "|     13610|      228|\n",
      "|     17757|      735|\n",
      "|     17551|       43|\n",
      "|     13187|       37|\n",
      "|     16549|      979|\n",
      "|     12637|      394|\n",
      "|     15052|       30|\n",
      "|     15448|       28|\n",
      "|     13985|      348|\n",
      "|     12888|        7|\n",
      "|     14525|      296|\n",
      "|     18283|      755|\n",
      "+----------+---------+\n",
      "only showing top 20 rows\n",
      "\n"
     ]
    }
   ],
   "source": [
    "df_freq= df.groupBy(\"CustomerID\").agg(count('InvoiceDate').alias('frequency'))\n",
    "df_freq.show()"
   ]
  },
  {
   "cell_type": "code",
   "execution_count": 16,
   "id": "b108d794-a6dc-4175-a240-d75eb1403caa",
   "metadata": {},
   "outputs": [
    {
     "name": "stdout",
     "output_type": "stream",
     "text": [
      "+----------+--------+---------+---------+--------------------+----------------+---------+--------------+---------------+---------+\n",
      "|CustomerID|Quantity|InvoiceNo|StockCode|         Description|     InvoiceDate|UnitPrice|       Country|      from_date|frequency|\n",
      "+----------+--------+---------+---------+--------------------+----------------+---------+--------------+---------------+---------+\n",
      "|     17850|       6|   536365|   85123A|WHITE HANGING HEA...|01-12-2010 08:26|     2.55|United Kingdom|1/10/2011 10:04|      312|\n",
      "|     17850|       6|   536365|    71053| WHITE METAL LANTERN|01-12-2010 08:26|     3.39|United Kingdom|1/10/2011 10:04|      312|\n",
      "|     17850|       8|   536365|   84406B|CREAM CUPID HEART...|01-12-2010 08:26|     2.75|United Kingdom|1/10/2011 10:04|      312|\n",
      "|     17850|       6|   536365|   84029G|KNITTED UNION FLA...|01-12-2010 08:26|     3.39|United Kingdom|1/10/2011 10:04|      312|\n",
      "|     17850|       6|   536365|   84029E|RED WOOLLY HOTTIE...|01-12-2010 08:26|     3.39|United Kingdom|1/10/2011 10:04|      312|\n",
      "|     17850|       2|   536365|    22752|SET 7 BABUSHKA NE...|01-12-2010 08:26|     7.65|United Kingdom|1/10/2011 10:04|      312|\n",
      "|     17850|       6|   536365|    21730|GLASS STAR FROSTE...|01-12-2010 08:26|     4.25|United Kingdom|1/10/2011 10:04|      312|\n",
      "|     17850|       6|   536366|    22633|HAND WARMER UNION...|01-12-2010 08:28|     1.85|United Kingdom|1/10/2011 10:04|      312|\n",
      "|     17850|       6|   536366|    22632|HAND WARMER RED P...|01-12-2010 08:28|     1.85|United Kingdom|1/10/2011 10:04|      312|\n",
      "|     13047|      32|   536367|    84879|ASSORTED COLOUR B...|01-12-2010 08:34|     1.69|United Kingdom|1/10/2011 10:04|      196|\n",
      "|     13047|       6|   536367|    22745|POPPY'S PLAYHOUSE...|01-12-2010 08:34|      2.1|United Kingdom|1/10/2011 10:04|      196|\n",
      "|     13047|       6|   536367|    22748|POPPY'S PLAYHOUSE...|01-12-2010 08:34|      2.1|United Kingdom|1/10/2011 10:04|      196|\n",
      "|     13047|       8|   536367|    22749|FELTCRAFT PRINCES...|01-12-2010 08:34|     3.75|United Kingdom|1/10/2011 10:04|      196|\n",
      "|     13047|       6|   536367|    22310|IVORY KNITTED MUG...|01-12-2010 08:34|     1.65|United Kingdom|1/10/2011 10:04|      196|\n",
      "|     13047|       6|   536367|    84969|BOX OF 6 ASSORTED...|01-12-2010 08:34|     4.25|United Kingdom|1/10/2011 10:04|      196|\n",
      "|     13047|       3|   536367|    22623|BOX OF VINTAGE JI...|01-12-2010 08:34|     4.95|United Kingdom|1/10/2011 10:04|      196|\n",
      "|     13047|       2|   536367|    22622|BOX OF VINTAGE AL...|01-12-2010 08:34|     9.95|United Kingdom|1/10/2011 10:04|      196|\n",
      "|     13047|       3|   536367|    21754|HOME BUILDING BLO...|01-12-2010 08:34|     5.95|United Kingdom|1/10/2011 10:04|      196|\n",
      "|     13047|       3|   536367|    21755|LOVE BUILDING BLO...|01-12-2010 08:34|     5.95|United Kingdom|1/10/2011 10:04|      196|\n",
      "|     13047|       4|   536367|    21777|RECIPE BOX WITH M...|01-12-2010 08:34|     7.95|United Kingdom|1/10/2011 10:04|      196|\n",
      "+----------+--------+---------+---------+--------------------+----------------+---------+--------------+---------------+---------+\n",
      "only showing top 20 rows\n",
      "\n"
     ]
    }
   ],
   "source": [
    "df3= df.join(df_freq,on = 'CustomerID',how = 'inner')\n",
    "df3.show()"
   ]
  },
  {
   "cell_type": "code",
   "execution_count": 17,
   "id": "02364b27-3443-4455-bd1c-5c950df8817f",
   "metadata": {},
   "outputs": [
    {
     "name": "stdout",
     "output_type": "stream",
     "text": [
      "root\n",
      " |-- CustomerID: string (nullable = true)\n",
      " |-- Quantity: string (nullable = true)\n",
      " |-- InvoiceNo: string (nullable = true)\n",
      " |-- StockCode: string (nullable = true)\n",
      " |-- Description: string (nullable = true)\n",
      " |-- InvoiceDate: string (nullable = true)\n",
      " |-- UnitPrice: string (nullable = true)\n",
      " |-- Country: string (nullable = true)\n",
      " |-- from_date: string (nullable = false)\n",
      " |-- frequency: long (nullable = false)\n",
      "\n"
     ]
    }
   ],
   "source": [
    "df3.printSchema()"
   ]
  },
  {
   "cell_type": "code",
   "execution_count": 18,
   "id": "7d123ec6-2092-411c-9dbf-37305c7b7d29",
   "metadata": {},
   "outputs": [
    {
     "name": "stdout",
     "output_type": "stream",
     "text": [
      "+----------+--------+---------+---------+--------------------+----------------+---------+--------------+---------------+---------+------------------+\n",
      "|CustomerID|Quantity|InvoiceNo|StockCode|         Description|     InvoiceDate|UnitPrice|       Country|      from_date|frequency|      Total Amount|\n",
      "+----------+--------+---------+---------+--------------------+----------------+---------+--------------+---------------+---------+------------------+\n",
      "|     17850|       6|   536365|   85123A|WHITE HANGING HEA...|01-12-2010 08:26|     2.55|United Kingdom|1/10/2011 10:04|      312|15.299999999999999|\n",
      "|     17850|       6|   536365|    71053| WHITE METAL LANTERN|01-12-2010 08:26|     3.39|United Kingdom|1/10/2011 10:04|      312|             20.34|\n",
      "|     17850|       8|   536365|   84406B|CREAM CUPID HEART...|01-12-2010 08:26|     2.75|United Kingdom|1/10/2011 10:04|      312|              22.0|\n",
      "|     17850|       6|   536365|   84029G|KNITTED UNION FLA...|01-12-2010 08:26|     3.39|United Kingdom|1/10/2011 10:04|      312|             20.34|\n",
      "|     17850|       6|   536365|   84029E|RED WOOLLY HOTTIE...|01-12-2010 08:26|     3.39|United Kingdom|1/10/2011 10:04|      312|             20.34|\n",
      "|     17850|       2|   536365|    22752|SET 7 BABUSHKA NE...|01-12-2010 08:26|     7.65|United Kingdom|1/10/2011 10:04|      312|              15.3|\n",
      "|     17850|       6|   536365|    21730|GLASS STAR FROSTE...|01-12-2010 08:26|     4.25|United Kingdom|1/10/2011 10:04|      312|              25.5|\n",
      "|     17850|       6|   536366|    22633|HAND WARMER UNION...|01-12-2010 08:28|     1.85|United Kingdom|1/10/2011 10:04|      312|11.100000000000001|\n",
      "|     17850|       6|   536366|    22632|HAND WARMER RED P...|01-12-2010 08:28|     1.85|United Kingdom|1/10/2011 10:04|      312|11.100000000000001|\n",
      "|     13047|      32|   536367|    84879|ASSORTED COLOUR B...|01-12-2010 08:34|     1.69|United Kingdom|1/10/2011 10:04|      196|             54.08|\n",
      "|     13047|       6|   536367|    22745|POPPY'S PLAYHOUSE...|01-12-2010 08:34|      2.1|United Kingdom|1/10/2011 10:04|      196|12.600000000000001|\n",
      "|     13047|       6|   536367|    22748|POPPY'S PLAYHOUSE...|01-12-2010 08:34|      2.1|United Kingdom|1/10/2011 10:04|      196|12.600000000000001|\n",
      "|     13047|       8|   536367|    22749|FELTCRAFT PRINCES...|01-12-2010 08:34|     3.75|United Kingdom|1/10/2011 10:04|      196|              30.0|\n",
      "|     13047|       6|   536367|    22310|IVORY KNITTED MUG...|01-12-2010 08:34|     1.65|United Kingdom|1/10/2011 10:04|      196| 9.899999999999999|\n",
      "|     13047|       6|   536367|    84969|BOX OF 6 ASSORTED...|01-12-2010 08:34|     4.25|United Kingdom|1/10/2011 10:04|      196|              25.5|\n",
      "|     13047|       3|   536367|    22623|BOX OF VINTAGE JI...|01-12-2010 08:34|     4.95|United Kingdom|1/10/2011 10:04|      196|14.850000000000001|\n",
      "|     13047|       2|   536367|    22622|BOX OF VINTAGE AL...|01-12-2010 08:34|     9.95|United Kingdom|1/10/2011 10:04|      196|              19.9|\n",
      "|     13047|       3|   536367|    21754|HOME BUILDING BLO...|01-12-2010 08:34|     5.95|United Kingdom|1/10/2011 10:04|      196|             17.85|\n",
      "|     13047|       3|   536367|    21755|LOVE BUILDING BLO...|01-12-2010 08:34|     5.95|United Kingdom|1/10/2011 10:04|      196|             17.85|\n",
      "|     13047|       4|   536367|    21777|RECIPE BOX WITH M...|01-12-2010 08:34|     7.95|United Kingdom|1/10/2011 10:04|      196|              31.8|\n",
      "+----------+--------+---------+---------+--------------------+----------------+---------+--------------+---------------+---------+------------------+\n",
      "only showing top 20 rows\n",
      "\n"
     ]
    }
   ],
   "source": [
    "m_val = df3.withColumn('Total Amount',col(\"Quantity\")*col(\"UnitPrice\"))\n",
    "m_val.show()"
   ]
  },
  {
   "cell_type": "code",
   "execution_count": 19,
   "id": "70263f14-c852-4735-84be-5c8ecf4fa68d",
   "metadata": {},
   "outputs": [],
   "source": [
    "m_val = m_val.groupBy('CustomerID').agg(sum('Total Amount').alias('Monetory_value'))"
   ]
  },
  {
   "cell_type": "code",
   "execution_count": 20,
   "id": "477bbcee-2851-42fd-8d73-a1e233019f2c",
   "metadata": {},
   "outputs": [
    {
     "name": "stdout",
     "output_type": "stream",
     "text": [
      "+----------+------------------+\n",
      "|CustomerID|    Monetory_value|\n",
      "+----------+------------------+\n",
      "|     16250|389.44000000000005|\n",
      "|     15574| 702.2500000000002|\n",
      "|     15555| 4710.320000000003|\n",
      "|     15271|           2442.47|\n",
      "|     17714|             153.0|\n",
      "|     17686|           5739.46|\n",
      "|     13865|501.56000000000006|\n",
      "|     14157| 432.8800000000001|\n",
      "|     13610|1115.4299999999996|\n",
      "|     17757| 5293.540000000004|\n",
      "|     17551|            306.84|\n",
      "|     13187|236.01999999999995|\n",
      "|     16549| 4125.270000000001|\n",
      "|     12637| 5953.250000000001|\n",
      "|     15052|            215.78|\n",
      "|     15448|494.64000000000004|\n",
      "|     13985| 6867.029999999999|\n",
      "|     12888|            313.77|\n",
      "|     14525|3961.2700000000004|\n",
      "|     18283|2078.6299999999997|\n",
      "+----------+------------------+\n",
      "only showing top 20 rows\n",
      "\n"
     ]
    }
   ],
   "source": [
    "m_val.show()"
   ]
  },
  {
   "cell_type": "code",
   "execution_count": 21,
   "id": "282bbf9c-51c9-4aef-b514-e9447d9c1be0",
   "metadata": {},
   "outputs": [
    {
     "name": "stdout",
     "output_type": "stream",
     "text": [
      "+----------+------------------+--------+---------+---------+--------------------+----------------+---------+--------------+---------------+---------+\n",
      "|CustomerID|    Monetory_value|Quantity|InvoiceNo|StockCode|         Description|     InvoiceDate|UnitPrice|       Country|      from_date|frequency|\n",
      "+----------+------------------+--------+---------+---------+--------------------+----------------+---------+--------------+---------------+---------+\n",
      "|     16250|389.44000000000005|       3|   536388|    21754|HOME BUILDING BLO...|01-12-2010 09:59|     5.95|United Kingdom|1/10/2011 10:04|       24|\n",
      "|     16250|389.44000000000005|       3|   536388|    21755|LOVE BUILDING BLO...|01-12-2010 09:59|     5.95|United Kingdom|1/10/2011 10:04|       24|\n",
      "|     16250|389.44000000000005|       2|   536388|    21523|DOORMAT FANCY FON...|01-12-2010 09:59|     7.95|United Kingdom|1/10/2011 10:04|       24|\n",
      "|     16250|389.44000000000005|       3|   536388|    21363|HOME SMALL WOOD L...|01-12-2010 09:59|     4.95|United Kingdom|1/10/2011 10:04|       24|\n",
      "|     16250|389.44000000000005|       3|   536388|    21411|GINGHAM HEART  DO...|01-12-2010 09:59|     4.25|United Kingdom|1/10/2011 10:04|       24|\n",
      "|     16250|389.44000000000005|       6|   536388|    22318|FIVE HEART HANGIN...|01-12-2010 09:59|     2.95|United Kingdom|1/10/2011 10:04|       24|\n",
      "|     16250|389.44000000000005|      12|   536388|    22464|HANGING METAL HEA...|01-12-2010 09:59|     1.65|United Kingdom|1/10/2011 10:04|       24|\n",
      "|     16250|389.44000000000005|      12|   536388|    22915|ASSORTED BOTTLE T...|01-12-2010 09:59|     0.42|United Kingdom|1/10/2011 10:04|       24|\n",
      "|     16250|389.44000000000005|      12|   536388|    22922|FRIDGE MAGNETS US...|01-12-2010 09:59|     0.85|United Kingdom|1/10/2011 10:04|       24|\n",
      "|     16250|389.44000000000005|      12|   536388|    22969|HOMEMADE JAM SCEN...|01-12-2010 09:59|     1.45|United Kingdom|1/10/2011 10:04|       24|\n",
      "|     16250|389.44000000000005|      12|   536388|    22923|FRIDGE MAGNETS LE...|01-12-2010 09:59|     0.85|United Kingdom|1/10/2011 10:04|       24|\n",
      "|     16250|389.44000000000005|       4|   536388|    21115|ROSE CARAVAN DOOR...|01-12-2010 09:59|     6.75|United Kingdom|1/10/2011 10:04|       24|\n",
      "|     16250|389.44000000000005|      12|   536388|    22469|HEART OF WICKER S...|01-12-2010 09:59|     1.65|United Kingdom|1/10/2011 10:04|       24|\n",
      "|     16250|389.44000000000005|      12|   536388|    22242|5 HOOK HANGER MAG...|01-12-2010 09:59|     1.65|United Kingdom|1/10/2011 10:04|       24|\n",
      "|     15574| 702.2500000000002|       1|   536796|    22376|AIRLINE BAG VINTA...|02-12-2010 15:46|     4.25|United Kingdom|1/10/2011 10:04|      168|\n",
      "|     15574| 702.2500000000002|       1|   536796|    22174|          PHOTO CUBE|02-12-2010 15:46|     1.65|United Kingdom|1/10/2011 10:04|      168|\n",
      "|     15574| 702.2500000000002|       1|   536796|    22745|POPPY'S PLAYHOUSE...|02-12-2010 15:46|      2.1|United Kingdom|1/10/2011 10:04|      168|\n",
      "|     15574| 702.2500000000002|       1|   536796|    20665|RED RETROSPOT PURSE |02-12-2010 15:46|     2.95|United Kingdom|1/10/2011 10:04|      168|\n",
      "|     15574| 702.2500000000002|       1|   536796|    21719|LOVELY BONBON STI...|02-12-2010 15:46|     0.85|United Kingdom|1/10/2011 10:04|      168|\n",
      "|     15574| 702.2500000000002|       1|   536796|    22906|12 MESSAGE CARDS ...|02-12-2010 15:46|     1.65|United Kingdom|1/10/2011 10:04|      168|\n",
      "+----------+------------------+--------+---------+---------+--------------------+----------------+---------+--------------+---------------+---------+\n",
      "only showing top 20 rows\n",
      "\n"
     ]
    }
   ],
   "source": [
    "finaldf = m_val.join(df3,on= \"CustomerID\",how = \"inner\")\n",
    "finaldf.show()"
   ]
  },
  {
   "cell_type": "code",
   "execution_count": 11,
   "id": "08aa6f15-1649-4379-923b-1b81e29a114d",
   "metadata": {},
   "outputs": [
    {
     "name": "stdout",
     "output_type": "stream",
     "text": [
      "+-----+---+\n",
      "| name| id|\n",
      "+-----+---+\n",
      "|Alice|  1|\n",
      "|  Bob|  2|\n",
      "+-----+---+\n",
      "\n",
      "+-----+---+\n",
      "| name| id|\n",
      "+-----+---+\n",
      "|Alice|  1|\n",
      "|  Bob|  2|\n",
      "+-----+---+\n",
      "\n"
     ]
    }
   ],
   "source": [
    "from pyspark.sql import SparkSession\n",
    "from pyspark.sql.types import StructType, StructField, StringType, IntegerType\n",
    "\n",
    "spark = SparkSession.builder \\\n",
    "    .appName(\"ExampleApp\") \\\n",
    "    .getOrCreate()\n",
    "\n",
    "data = [(\"Alice\", 1), (\"Bob\", 2)]\n",
    "\n",
    "columns = [\"name\", \"id\"]\n",
    "\n",
    "df = spark.createDataFrame(data=data, schema=columns)\n",
    "df.show()\n",
    "\n",
    "\n",
    "#The createDataFrame method takes two arguments: data and schema.\n",
    "\n",
    "#Explicit Schema\n",
    "schema = StructType([\n",
    "    StructField(\"name\", StringType(), True),\n",
    "    StructField(\"id\", IntegerType(), True)\n",
    "])\n",
    "\n",
    "df1 = spark.createDataFrame(data, schema)\n",
    "df1.show()"
   ]
  },
  {
   "cell_type": "code",
   "execution_count": 4,
   "id": "a3ea86e6-d1e3-48af-8c4d-6dfec674be6e",
   "metadata": {},
   "outputs": [
    {
     "name": "stdout",
     "output_type": "stream",
     "text": [
      "+---+-----+-------+--------+\n",
      "| id| name|new_col|  status|\n",
      "+---+-----+-------+--------+\n",
      "|  1|Alice|     11|  active|\n",
      "|  2|  Bob|     12|inactive|\n",
      "+---+-----+-------+--------+\n",
      "\n"
     ]
    }
   ],
   "source": [
    "from pyspark.sql import SparkSession\n",
    "from pyspark.sql.functions import col, lit, when\n",
    "\n",
    "# Create a SparkSession\n",
    "spark = SparkSession.builder \\\n",
    "    .appName(\"ExampleApp\") \\\n",
    "    .getOrCreate()\n",
    "\n",
    "# Example DataFrame\n",
    "df = spark.createDataFrame([(1, \"Alice\"), (2, \"Bob\")], [\"id\", \"name\"])\n",
    "\n",
    "# Using col and lit functions\n",
    "df = df.withColumn(\"new_col\", col(\"id\") + lit(10))\n",
    "\n",
    "# Using when function\n",
    "df = df.withColumn(\"status\", when(col(\"id\") == 1, \"active\").otherwise(\"inactive\"))\n",
    "\n",
    "# Show the resulting DataFrame\n",
    "df.show()"
   ]
  },
  {
   "cell_type": "code",
   "execution_count": 8,
   "id": "4439ee0e-bebe-4482-8da1-5b7504549c61",
   "metadata": {},
   "outputs": [
    {
     "name": "stdout",
     "output_type": "stream",
     "text": [
      "+---+-----+\n",
      "| id| name|\n",
      "+---+-----+\n",
      "|  1|Alice|\n",
      "|  2|  Bob|\n",
      "+---+-----+\n",
      "\n"
     ]
    }
   ],
   "source": [
    "from pyspark.sql.types import StructType, StructField, StringType, IntegerType\n",
    "from pyspark.sql import SparkSession\n",
    "\n",
    "# Create a SparkSession\n",
    "spark = SparkSession.builder \\\n",
    "    .appName(\"ExampleApp\") \\\n",
    "    .getOrCreate()\n",
    "\n",
    "# Defining a schema [ define an explicit schema]\n",
    "schema = StructType([\n",
    "    StructField(\"id\", IntegerType(), True),\n",
    "    StructField(\"name\", StringType(), True)\n",
    "])\n",
    "\n",
    "# Creating a DataFrame with the defined schema\n",
    "df = spark.createDataFrame([(1, \"Alice\"), (2, \"Bob\")], schema)\n",
    "df.show()"
   ]
  },
  {
   "cell_type": "code",
   "execution_count": 5,
   "id": "d85e2ab9-7396-4a56-a354-4394705fbe07",
   "metadata": {
    "scrolled": true
   },
   "outputs": [
    {
     "ename": "NameError",
     "evalue": "name 'finaldf' is not defined",
     "output_type": "error",
     "traceback": [
      "\u001b[1;31m---------------------------------------------------------------------------\u001b[0m",
      "\u001b[1;31mNameError\u001b[0m                                 Traceback (most recent call last)",
      "Cell \u001b[1;32mIn[5], line 4\u001b[0m\n\u001b[0;32m      1\u001b[0m \u001b[38;5;28;01mfrom\u001b[39;00m \u001b[38;5;21;01mpyspark\u001b[39;00m\u001b[38;5;21;01m.\u001b[39;00m\u001b[38;5;21;01mml\u001b[39;00m\u001b[38;5;21;01m.\u001b[39;00m\u001b[38;5;21;01mfeature\u001b[39;00m \u001b[38;5;28;01mimport\u001b[39;00m VectorAssembler\n\u001b[0;32m      2\u001b[0m \u001b[38;5;28;01mfrom\u001b[39;00m \u001b[38;5;21;01mpyspark\u001b[39;00m\u001b[38;5;21;01m.\u001b[39;00m\u001b[38;5;21;01mml\u001b[39;00m\u001b[38;5;21;01m.\u001b[39;00m\u001b[38;5;21;01mfeature\u001b[39;00m \u001b[38;5;28;01mimport\u001b[39;00m StandardScaler\n\u001b[1;32m----> 4\u001b[0m finaldf \u001b[38;5;241m=\u001b[39m \u001b[43mfinaldf\u001b[49m\u001b[38;5;241m.\u001b[39mwithColumn(\u001b[38;5;124m'\u001b[39m\u001b[38;5;124mQuantity\u001b[39m\u001b[38;5;124m'\u001b[39m,col(\u001b[38;5;124m'\u001b[39m\u001b[38;5;124mQuantity\u001b[39m\u001b[38;5;124m'\u001b[39m)\u001b[38;5;241m.\u001b[39mcast(\u001b[38;5;124m'\u001b[39m\u001b[38;5;124mdouble\u001b[39m\u001b[38;5;124m'\u001b[39m))\n\u001b[0;32m      6\u001b[0m assemble \u001b[38;5;241m=\u001b[39m VectorAssembler(inputCols \u001b[38;5;241m=\u001b[39m [\u001b[38;5;124m'\u001b[39m\u001b[38;5;124mQuantity\u001b[39m\u001b[38;5;124m'\u001b[39m,\u001b[38;5;124m'\u001b[39m\u001b[38;5;124mfrequency\u001b[39m\u001b[38;5;124m'\u001b[39m,\u001b[38;5;124m'\u001b[39m\u001b[38;5;124mMonetory_value\u001b[39m\u001b[38;5;124m'\u001b[39m],outputCol \u001b[38;5;241m=\u001b[39m \u001b[38;5;124m'\u001b[39m\u001b[38;5;124mFeatures\u001b[39m\u001b[38;5;124m'\u001b[39m)\n\u001b[0;32m      7\u001b[0m assembled_data \u001b[38;5;241m=\u001b[39m assemble\u001b[38;5;241m.\u001b[39mtransform(finaldf)\n",
      "\u001b[1;31mNameError\u001b[0m: name 'finaldf' is not defined"
     ]
    }
   ],
   "source": [
    "from pyspark.ml.feature import VectorAssembler\n",
    "from pyspark.ml.feature import StandardScaler\n",
    "\n",
    "finaldf = finaldf.withColumn('Quantity',col('Quantity').cast('double'))\n",
    "\n",
    "assemble = VectorAssembler(inputCols = ['Quantity','frequency','Monetory_value'],outputCol = 'Features')\n",
    "assembled_data = assemble.transform(finaldf)\n",
    "\n",
    "scale = StandardScaler(inputCol = 'Features',outputCol = 'Standardized')\n",
    "data_scale = scale.fit(assembled_data)\n",
    "data_scale_output = data_scale.transform(assembled_data)\n",
    "data_scale_output.show()\n"
   ]
  },
  {
   "cell_type": "code",
   "execution_count": null,
   "id": "5b6f22c0-f940-47b3-a423-784f29be9614",
   "metadata": {},
   "outputs": [],
   "source": []
  }
 ],
 "metadata": {
  "kernelspec": {
   "display_name": "Python 3 (ipykernel)",
   "language": "python",
   "name": "python3"
  },
  "language_info": {
   "codemirror_mode": {
    "name": "ipython",
    "version": 3
   },
   "file_extension": ".py",
   "mimetype": "text/x-python",
   "name": "python",
   "nbconvert_exporter": "python",
   "pygments_lexer": "ipython3",
   "version": "3.11.9"
  }
 },
 "nbformat": 4,
 "nbformat_minor": 5
}
