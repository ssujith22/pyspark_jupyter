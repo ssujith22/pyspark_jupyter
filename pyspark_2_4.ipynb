{
 "cells": [
  {
   "cell_type": "code",
   "execution_count": 1,
   "id": "a140ae20-78e0-4ecd-829d-979da86740d6",
   "metadata": {},
   "outputs": [],
   "source": [
    "import findspark\n",
    "findspark.init()\n",
    "from pyspark.sql import SparkSession"
   ]
  },
  {
   "cell_type": "code",
   "execution_count": 2,
   "id": "68c5a2a3-08ae-407d-b38d-51b83f03857b",
   "metadata": {},
   "outputs": [],
   "source": [
    "spark = SparkSession.builder.master(\"local[1]\") \\\n",
    "    .appName(\"SparkByExamples.com\").getOrCreate()"
   ]
  },
  {
   "cell_type": "code",
   "execution_count": 3,
   "id": "66b55c9c-fa3b-45ee-9022-e145b94c33ff",
   "metadata": {},
   "outputs": [],
   "source": [
    "data = [\"Project\",\"Gutenberg’s\",\"Alice’s\",\"Adventures\",\n",
    "\"in\",\"Wonderland\",\"Project\",\"Gutenberg’s\",\"Adventures\",\n",
    "\"in\",\"Wonderland\",\"Project\",\"Gutenberg’s\"]"
   ]
  },
  {
   "cell_type": "code",
   "execution_count": 4,
   "id": "6d4afff8-99ed-4821-9546-4361b64a4386",
   "metadata": {},
   "outputs": [],
   "source": [
    "rdd=spark.sparkContext.parallelize(data)"
   ]
  },
  {
   "cell_type": "code",
   "execution_count": 5,
   "id": "65ea552d-ba96-4ecd-aa5b-7f0a25086fbd",
   "metadata": {},
   "outputs": [
    {
     "name": "stdout",
     "output_type": "stream",
     "text": [
      "('Project', 1)\n",
      "('Gutenberg’s', 1)\n",
      "('Alice’s', 1)\n",
      "('Adventures', 1)\n",
      "('in', 1)\n",
      "('Wonderland', 1)\n",
      "('Project', 1)\n",
      "('Gutenberg’s', 1)\n",
      "('Adventures', 1)\n",
      "('in', 1)\n",
      "('Wonderland', 1)\n",
      "('Project', 1)\n",
      "('Gutenberg’s', 1)\n"
     ]
    }
   ],
   "source": [
    "rdd2=rdd.map(lambda x: (x,1))\n",
    "for element in rdd2.collect():\n",
    "    print(element)"
   ]
  },
  {
   "cell_type": "code",
   "execution_count": 6,
   "id": "61c504e8-67ed-42df-9cc0-2dff98500485",
   "metadata": {},
   "outputs": [],
   "source": [
    "data = [('James','Smith','M',30),\n",
    "  ('Anna','Rose','F',41),\n",
    "  ('Robert','Williams','M',62), \n",
    "]\n"
   ]
  },
  {
   "cell_type": "code",
   "execution_count": 7,
   "id": "0f369247-736a-4a8f-8b58-f0479efd8acc",
   "metadata": {},
   "outputs": [
    {
     "name": "stdout",
     "output_type": "stream",
     "text": [
      "+---------+--------+------+------+\n",
      "|firstname|lastname|gender|salary|\n",
      "+---------+--------+------+------+\n",
      "|    James|   Smith|     M|    30|\n",
      "|     Anna|    Rose|     F|    41|\n",
      "|   Robert|Williams|     M|    62|\n",
      "+---------+--------+------+------+\n",
      "\n"
     ]
    }
   ],
   "source": [
    "columns = [\"firstname\",\"lastname\",\"gender\",\"salary\"]\n",
    "df = spark.createDataFrame(data=data, schema = columns)\n",
    "df.show()"
   ]
  },
  {
   "cell_type": "code",
   "execution_count": 8,
   "id": "c3f52ac7-4c18-4ead-acdf-aa1fc706bf9a",
   "metadata": {},
   "outputs": [
    {
     "name": "stdout",
     "output_type": "stream",
     "text": [
      "+---------------+------+----------+\n",
      "|           name|gender|new_salary|\n",
      "+---------------+------+----------+\n",
      "|    James,Smith|     M|        60|\n",
      "|      Anna,Rose|     F|        82|\n",
      "|Robert,Williams|     M|       124|\n",
      "+---------------+------+----------+\n",
      "\n"
     ]
    }
   ],
   "source": [
    "rdd2=df.rdd.map(lambda x: \n",
    "    (x[0]+\",\"+x[1],x[2],x[3]*2)\n",
    "    )  \n",
    "df2=rdd2.toDF([\"name\",\"gender\",\"new_salary\"]   )\n",
    "df2.show()"
   ]
  },
  {
   "cell_type": "code",
   "execution_count": 9,
   "id": "9359a1ab-e864-40fb-831d-54435710d5bc",
   "metadata": {},
   "outputs": [],
   "source": [
    "# By Calling function\n",
    "def func1(x):\n",
    "    firstName=x.firstname\n",
    "    lastName=x.lastname\n",
    "    name=firstName+\",\"+lastName\n",
    "    gender=x.gender.lower()\n",
    "    salary=x.salary*2\n",
    "    return (name,gender,salary)"
   ]
  },
  {
   "cell_type": "code",
   "execution_count": 10,
   "id": "fa263212-0823-4216-90c8-5f7dcddfdf52",
   "metadata": {},
   "outputs": [],
   "source": [
    "# Apply the func1 function using lambda\n",
    "rdd2 = df.rdd.map(lambda x: func1(x))"
   ]
  },
  {
   "cell_type": "code",
   "execution_count": 11,
   "id": "a0b227ec-2c19-46fb-a858-a7cb5fa2a419",
   "metadata": {},
   "outputs": [],
   "source": [
    "#or\n",
    "# Apply the func1 function to each element of the RDD using map()\n",
    "rdd2 = df.rdd.map(func1)"
   ]
  },
  {
   "cell_type": "code",
   "execution_count": 12,
   "id": "bc6e77d0-53d6-4346-a583-4a539e414296",
   "metadata": {},
   "outputs": [
    {
     "name": "stdout",
     "output_type": "stream",
     "text": [
      "('James,Smith', 'm', 60)\n",
      "('Anna,Rose', 'f', 82)\n",
      "('Robert,Williams', 'm', 124)\n"
     ]
    }
   ],
   "source": [
    "for element in rdd2.collect():\n",
    "    print(element)"
   ]
  },
  {
   "cell_type": "code",
   "execution_count": 13,
   "id": "21de9d40-487e-4470-a059-c53347c2f5fe",
   "metadata": {},
   "outputs": [],
   "source": [
    "# Create DataFrames for Employees and Departments\n",
    "data_employees = [(1, \"John\", 1), (2, \"Emma\", 2), (3, \"Raj\", None), (4, \"Nina\", 4)]\n",
    "data_departments = [(1, \"HR\"), (2, \"Tech\"), (3, \"Marketing\"), (None, \"Temp\")]\n",
    "\n",
    "columns_employees = [\"emp_id\", \"emp_name\", \"dept_id\"]\n",
    "columns_departments = [\"dept_id\", \"dept_name\"]\n",
    "\n",
    "df_employees = spark.createDataFrame(data_employees, columns_employees)\n",
    "df_departments = spark.createDataFrame(data_departments, columns_departments)"
   ]
  },
  {
   "cell_type": "code",
   "execution_count": 14,
   "id": "724312d2-8741-471f-8761-2e1fb6b64bb7",
   "metadata": {},
   "outputs": [],
   "source": [
    "# Perform INNER JOIN\n",
    "# since `inner` is the default join type, we can omit it\n",
    "df_joined = df_employees.join(df_departments, df_employees.dept_id == df_departments.dept_id)"
   ]
  },
  {
   "cell_type": "code",
   "execution_count": 15,
   "id": "e63b3796-90e8-41c0-8348-bb8791e46048",
   "metadata": {},
   "outputs": [
    {
     "name": "stdout",
     "output_type": "stream",
     "text": [
      "+------+--------+-------+-------+---------+\n",
      "|emp_id|emp_name|dept_id|dept_id|dept_name|\n",
      "+------+--------+-------+-------+---------+\n",
      "|     1|    John|      1|      1|       HR|\n",
      "|     2|    Emma|      2|      2|     Tech|\n",
      "+------+--------+-------+-------+---------+\n",
      "\n"
     ]
    }
   ],
   "source": [
    "# Show the result\n",
    "df_joined.show()"
   ]
  },
  {
   "cell_type": "code",
   "execution_count": 16,
   "id": "f785d131-2d75-49ff-a90a-a8b931093fd1",
   "metadata": {},
   "outputs": [
    {
     "name": "stdout",
     "output_type": "stream",
     "text": [
      "+------+--------+-------+-------+---------+\n",
      "|emp_id|emp_name|dept_id|dept_id|dept_name|\n",
      "+------+--------+-------+-------+---------+\n",
      "|     1|    John|      1|      1|       HR|\n",
      "|     1|    John|      1|      2|     Tech|\n",
      "|     1|    John|      1|      3|Marketing|\n",
      "|     1|    John|      1|   NULL|     Temp|\n",
      "|     2|    Emma|      2|      1|       HR|\n",
      "|     2|    Emma|      2|      2|     Tech|\n",
      "|     2|    Emma|      2|      3|Marketing|\n",
      "|     2|    Emma|      2|   NULL|     Temp|\n",
      "|     3|     Raj|   NULL|      1|       HR|\n",
      "|     3|     Raj|   NULL|      2|     Tech|\n",
      "|     3|     Raj|   NULL|      3|Marketing|\n",
      "|     3|     Raj|   NULL|   NULL|     Temp|\n",
      "|     4|    Nina|      4|      1|       HR|\n",
      "|     4|    Nina|      4|      2|     Tech|\n",
      "|     4|    Nina|      4|      3|Marketing|\n",
      "|     4|    Nina|      4|   NULL|     Temp|\n",
      "+------+--------+-------+-------+---------+\n",
      "\n"
     ]
    }
   ],
   "source": [
    "df_cross_joined = df_employees.crossJoin(df_departments)\n",
    "df_cross_joined.show()"
   ]
  },
  {
   "cell_type": "code",
   "execution_count": 17,
   "id": "8f5dbb3a-683b-4708-8e5f-dcb716a2b19d",
   "metadata": {},
   "outputs": [],
   "source": [
    "df_leftjoined = df_employees.join(df_departments, df_employees.dept_id == df_departments.dept_id, \"left\")\n"
   ]
  },
  {
   "cell_type": "code",
   "execution_count": 18,
   "id": "52f40528-ab21-4f5c-bb34-3ec1e305269d",
   "metadata": {},
   "outputs": [
    {
     "name": "stdout",
     "output_type": "stream",
     "text": [
      "+------+--------+-------+-------+---------+\n",
      "|emp_id|emp_name|dept_id|dept_id|dept_name|\n",
      "+------+--------+-------+-------+---------+\n",
      "|     3|     Raj|   NULL|   NULL|     NULL|\n",
      "|     1|    John|      1|      1|       HR|\n",
      "|     2|    Emma|      2|      2|     Tech|\n",
      "|     4|    Nina|      4|   NULL|     NULL|\n",
      "+------+--------+-------+-------+---------+\n",
      "\n"
     ]
    }
   ],
   "source": [
    "# Show the result\n",
    "df_leftjoined.show()"
   ]
  },
  {
   "cell_type": "code",
   "execution_count": 19,
   "id": "77fc1e78-0bfd-433d-b8fd-7b4355bc3910",
   "metadata": {},
   "outputs": [],
   "source": [
    "df_rightjoined = df_employees.join(df_departments, df_employees.dept_id == df_departments.dept_id, \"right\")\n"
   ]
  },
  {
   "cell_type": "code",
   "execution_count": 20,
   "id": "59eea600-4941-4646-b01a-ddc8c03d8a67",
   "metadata": {},
   "outputs": [
    {
     "name": "stdout",
     "output_type": "stream",
     "text": [
      "+------+--------+-------+-------+---------+\n",
      "|emp_id|emp_name|dept_id|dept_id|dept_name|\n",
      "+------+--------+-------+-------+---------+\n",
      "|  NULL|    NULL|   NULL|   NULL|     Temp|\n",
      "|     1|    John|      1|      1|       HR|\n",
      "|  NULL|    NULL|   NULL|      3|Marketing|\n",
      "|     2|    Emma|      2|      2|     Tech|\n",
      "+------+--------+-------+-------+---------+\n",
      "\n"
     ]
    }
   ],
   "source": [
    "# Show the result\n",
    "df_rightjoined.show()"
   ]
  },
  {
   "cell_type": "code",
   "execution_count": 21,
   "id": "7cd73d35-f3ca-459e-99e8-c6e60ebd9d6e",
   "metadata": {},
   "outputs": [],
   "source": [
    "# Create DataFrames for Users and Purchases\n",
    "data_users = [(1, \"Alice\"), (2, \"Bob\"), (3, \"Charlie\"), (4, \"David\")]\n",
    "data_purchases = [(1, \"Book\"), (2, \"Pen\"), (5, \"Notebook\")]\n",
    "\n",
    "columns_users = [\"id\", \"name\"]\n",
    "columns_purchases = [\"user_id\", \"item\"]\n",
    "\n",
    "df_users = spark.createDataFrame(data_users, columns_users)\n",
    "df_purchases = spark.createDataFrame(data_purchases, columns_purchases)"
   ]
  },
  {
   "cell_type": "code",
   "execution_count": 22,
   "id": "23f6545d-3ee6-4a9b-9dfd-a5ca4cd6fe54",
   "metadata": {},
   "outputs": [],
   "source": [
    "# Perform Left Semi Join\n",
    "df_purchasers = df_users.join(df_purchases, df_users.id == df_purchases.user_id, \"left_semi\")\n"
   ]
  },
  {
   "cell_type": "code",
   "execution_count": 23,
   "id": "cc85f700-6431-4e6b-a636-e0ffa38364f2",
   "metadata": {},
   "outputs": [
    {
     "name": "stdout",
     "output_type": "stream",
     "text": [
      "+---+-----+\n",
      "| id| name|\n",
      "+---+-----+\n",
      "|  1|Alice|\n",
      "|  2|  Bob|\n",
      "+---+-----+\n",
      "\n"
     ]
    }
   ],
   "source": [
    "# Show the result\n",
    "df_purchasers.show()"
   ]
  },
  {
   "cell_type": "code",
   "execution_count": 24,
   "id": "826daf81-63e0-49de-88b6-b3273269dcc1",
   "metadata": {},
   "outputs": [],
   "source": [
    "# Perform Left anti Join\n",
    "df_purchasers = df_users.join(df_purchases, df_users.id == df_purchases.user_id, \"left_anti\")\n"
   ]
  },
  {
   "cell_type": "code",
   "execution_count": 25,
   "id": "d8d675bb-0acd-4091-9538-da65def91fea",
   "metadata": {},
   "outputs": [
    {
     "name": "stdout",
     "output_type": "stream",
     "text": [
      "+---+-------+\n",
      "| id|   name|\n",
      "+---+-------+\n",
      "|  3|Charlie|\n",
      "|  4|  David|\n",
      "+---+-------+\n",
      "\n"
     ]
    }
   ],
   "source": [
    "# Show the result\n",
    "df_purchasers.show()\n"
   ]
  },
  {
   "cell_type": "code",
   "execution_count": null,
   "id": "f585c426-e625-4c67-b6fe-2dce35b8c853",
   "metadata": {},
   "outputs": [],
   "source": [
    "df = spark.read.option(\"header\",True) \\\n",
    "    .csv(\"Zipcodes.csv\").createOrReplaceTempView(\"Zipcodes\")\n"
   ]
  },
  {
   "cell_type": "code",
   "execution_count": null,
   "id": "f1460527-f7a3-41d0-a3e0-f4c95381cfea",
   "metadata": {},
   "outputs": [],
   "source": [
    "spark.sql(\"SELECT country, city, zipcode, state FROM ZIPCODES\") \\\n",
    "     .show(5)"
   ]
  },
  {
   "cell_type": "code",
   "execution_count": null,
   "id": "af56cd56-5a17-4e97-94f9-2f1c6bf25b1e",
   "metadata": {},
   "outputs": [],
   "source": [
    "spark.sql(\"\"\" SELECT  country, city, zipcode, state FROM ZIPCODES \n",
    "          WHERE state = 'AZ' \"\"\") \\\n",
    "     .show(5)"
   ]
  },
  {
   "cell_type": "code",
   "execution_count": null,
   "id": "0e5c0ecd-75d0-4577-a4ea-c3c04791486f",
   "metadata": {},
   "outputs": [],
   "source": [
    "spark.sql(\"\"\" SELECT  country, city, zipcode, state FROM ZIPCODES \n",
    "          WHERE state in ('PR','AZ','FL') order by state \"\"\") \\\n",
    "     .show(10)"
   ]
  },
  {
   "cell_type": "code",
   "execution_count": null,
   "id": "bcb629cc-eaa1-4cd0-99e6-e3b16d36cb2d",
   "metadata": {},
   "outputs": [],
   "source": [
    "spark.sql(\"\"\" SELECT state, count(*) as count FROM ZIPCODES \n",
    "          GROUP BY state\"\"\") \\\n",
    "     .show()\n"
   ]
  },
  {
   "cell_type": "code",
   "execution_count": null,
   "id": "a6283890-7db8-47ed-b511-3953f887773c",
   "metadata": {},
   "outputs": [],
   "source": [
    "from pyspark.sql import SparkSession\n",
    "spark = SparkSession.builder.appName('ECommerceAnalysis').getOrCreate()\n",
    "df = spark.read.csv(\"/FileStore/sample_ecommerce_data.csv\", header=True, inferSchema=True)\n",
    "df.show()"
   ]
  }
 ],
 "metadata": {
  "kernelspec": {
   "display_name": "Python 3 (ipykernel)",
   "language": "python",
   "name": "python3"
  },
  "language_info": {
   "codemirror_mode": {
    "name": "ipython",
    "version": 3
   },
   "file_extension": ".py",
   "mimetype": "text/x-python",
   "name": "python",
   "nbconvert_exporter": "python",
   "pygments_lexer": "ipython3",
   "version": "3.11.9"
  }
 },
 "nbformat": 4,
 "nbformat_minor": 5
}
